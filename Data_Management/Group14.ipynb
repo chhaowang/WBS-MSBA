{
  "nbformat": 4,
  "nbformat_minor": 0,
  "metadata": {
    "colab": {
      "provenance": []
    },
    "kernelspec": {
      "name": "python3",
      "display_name": "Python 3"
    },
    "language_info": {
      "name": "python"
    }
  },
  "cells": [
    {
      "cell_type": "markdown",
      "source": [
        "#**Appendix B - Python Code**\n",
        "The appendix shows the completed process of creating tables, inserting synthetic data, and conducting five analyses."
      ],
      "metadata": {
        "id": "OO9LnJ2b8Iom"
      }
    },
    {
      "cell_type": "markdown",
      "source": [
        "# Importing Libraries"
      ],
      "metadata": {
        "id": "D2D601EP2x2r"
      }
    },
    {
      "cell_type": "code",
      "source": [
        "import sqlite3\n",
        "import csv\n",
        "import pandas as pd\n",
        "from google.colab import files\n",
        "from tabulate import tabulate"
      ],
      "metadata": {
        "id": "kir1x0y07f58"
      },
      "execution_count": null,
      "outputs": []
    },
    {
      "cell_type": "markdown",
      "source": [
        "# Connect to the SQLite Database"
      ],
      "metadata": {
        "id": "ykXM4G7R24Cf"
      }
    },
    {
      "cell_type": "code",
      "execution_count": null,
      "metadata": {
        "id": "OIeB5k40gkFo"
      },
      "outputs": [],
      "source": [
        "# Connect to the 'fun_rides_car_rental.db' SQLite database\n",
        "conn = sqlite3.connect('fun_rides_car_rental.db')\n",
        "# Create a cursor for executing SQL queries\n",
        "cursor = conn.cursor()"
      ]
    },
    {
      "cell_type": "markdown",
      "source": [
        "# CREATE TABLE Queries"
      ],
      "metadata": {
        "id": "9Tp3amaN3GdL"
      }
    },
    {
      "cell_type": "code",
      "source": [
        "# Create the \"customers\" table\n",
        "cursor.execute('''\n",
        "CREATE TABLE IF NOT EXISTS customers (\n",
        "    customer_id TEXT PRIMARY KEY NOT NULL,\n",
        "    first_name TEXT NOT NULL,\n",
        "    last_name TEXT NOT NULL,\n",
        "    sex TEXT NOT NULL CHECK (sex IN ('M', 'F')),\n",
        "    birthdate DATE NOT NULL,\n",
        "    driver_license_id TEXT NOT NULL,\n",
        "    issue_country TEXT NOT NULL,\n",
        "    country_code TEXT NOT NULL,\n",
        "    phone TEXT NOT NULL,\n",
        "    email TEXT NULL,\n",
        "    street TEXT NOT NULL,\n",
        "    city TEXT NOT NULL,\n",
        "    county TEXT NULL,\n",
        "    postcode TEXT NOT NULL,\n",
        "    join_date DATE NOT NULL\n",
        ");\n",
        "''')\n",
        "\n",
        "# Create the \"rentals\" table\n",
        "cursor.execute('''\n",
        "CREATE TABLE IF NOT EXISTS rentals (\n",
        "    rental_id INTEGER PRIMARY KEY NOT NULL,\n",
        "    customer_id TEXT NOT NULL,\n",
        "    vehicle_id TEXT NOT NULL,\n",
        "    rental_start_date DATE NOT NULL,\n",
        "    rental_end_date DATE NOT NULL,\n",
        "    rental_duration INTEGER NOT NULL,\n",
        "    discount REAL NOT NULL DEFAULT 0,\n",
        "    FOREIGN KEY (customer_id) REFERENCES customers(customer_id),\n",
        "    FOREIGN KEY (vehicle_id) REFERENCES vehicles(vehicle_id)\n",
        ");\n",
        "''')\n",
        "\n",
        "# Create the \"payments\" table\n",
        "cursor.execute('''\n",
        "CREATE TABLE IF NOT EXISTS payments (\n",
        "    payment_id INTEGER PRIMARY KEY NOT NULL,\n",
        "    rental_id INTEGER NOT NULL,\n",
        "    payment_date DATE NOT NULL,\n",
        "    payment_type TEXT NOT NULL CHECK (payment_type IN ('Credit Card', 'Debit Card', 'Cash', 'Bank Transfer')),\n",
        "    payment_amount REAL NOT NULL,\n",
        "    FOREIGN KEY (rental_id) REFERENCES rentals(rental_id)\n",
        ");\n",
        "''')\n",
        "\n",
        "# Create the \"vehicles\" table\n",
        "cursor.execute('''\n",
        "CREATE TABLE IF NOT EXISTS vehicles (\n",
        "    vehicle_id TEXT PRIMARY KEY NOT NULL,\n",
        "    license_plate_number TEXT NOT NULL,\n",
        "    vin TEXT NOT NULL,\n",
        "    branch_id TEXT NOT NULL,\n",
        "    make TEXT NOT NULL,\n",
        "    model TEXT NOT NULL,\n",
        "    manufacture_year INTEGER NOT NULL,\n",
        "    current_mileage INTEGER NOT NULL,\n",
        "    daily_rate REAL NOT NULL,\n",
        "    deposit_amount REAL NOT NULL,\n",
        "    vehicle_status TEXT NOT NULL CHECK (vehicle_status IN ('Available', 'Rented', 'Servicing', 'Totalled')),\n",
        "    next_available_date DATE NULL,\n",
        "    FOREIGN KEY (branch_id) REFERENCES branches(branch_id)\n",
        ");\n",
        "''')\n",
        "\n",
        "# Create the \"branches\" table\n",
        "cursor.execute('''\n",
        "CREATE TABLE IF NOT EXISTS branches (\n",
        "    branch_id TEXT PRIMARY KEY NOT NULL,\n",
        "    branch_name TEXT NOT NULL,\n",
        "    street TEXT NOT NULL,\n",
        "    city TEXT NOT NULL,\n",
        "    county TEXT NOT NULL,\n",
        "    postcode TEXT NOT NULL,\n",
        "    phone TEXT NOT NULL,\n",
        "    email TEXT NOT NULL\n",
        ");\n",
        "''')\n",
        "\n",
        "# Create the \"insurance\" table\n",
        "cursor.execute('''\n",
        "CREATE TABLE IF NOT EXISTS insurance (\n",
        "    policy_number TEXT PRIMARY KEY NOT NULL,\n",
        "    provider TEXT NOT NULL,\n",
        "    vehicle_id TEXT NOT NULL,\n",
        "    policy_type TEXT NOT NULL,\n",
        "    premium_amount REAL NOT NULL,\n",
        "    start_date DATE NOT NULL,\n",
        "    end_date DATE NOT NULL,\n",
        "    FOREIGN KEY (vehicle_id) REFERENCES vehicles(vehicle_id)\n",
        ");\n",
        "''')\n",
        "\n",
        "# Create the \"maintenance\" table\n",
        "cursor.execute('''\n",
        "CREATE TABLE IF NOT EXISTS maintenance (\n",
        "    maintenance_id TEXT PRIMARY KEY NOT NULL,\n",
        "    vehicle_id TEXT NOT NULL,\n",
        "    service_date DATE NOT NULL,\n",
        "    service_end_date DATE NULL,\n",
        "    service_duration INTEGER NULL,\n",
        "    service_description TEXT NULL,\n",
        "    service_cost REAL NULL,\n",
        "    odometer_reading INTEGER NOT NULL,\n",
        "    service_center_id TEXT NOT NULL,\n",
        "    next_maintenance_due INTEGER NOT NULL,\n",
        "    FOREIGN KEY (vehicle_id) REFERENCES vehicles(vehicle_id)\n",
        ");\n",
        "''')\n",
        "\n",
        "# Create the \"accidents\" table\n",
        "cursor.execute('''\n",
        "CREATE TABLE IF NOT EXISTS accidents (\n",
        "    accident_id TEXT PRIMARY KEY NOT NULL,\n",
        "    vehicle_id TEXT NOT NULL,\n",
        "    accident_date DATE NOT NULL,\n",
        "    accident_description TEXT NOT NULL,\n",
        "    repair_start_date DATE NULL,\n",
        "    repair_end_date DATE NULL,\n",
        "    repair_duration INTEGER NULL,\n",
        "    repair_cost REAL NULL,\n",
        "    insurance_claim_number TEXT NULL,\n",
        "    claim_status TEXT NULL,\n",
        "    FOREIGN KEY (vehicle_id) REFERENCES vehicles(vehicle_id)\n",
        ");\n",
        "''')\n",
        "\n",
        "# Create the \"additional_services\" table\n",
        "cursor.execute('''\n",
        "CREATE TABLE IF NOT EXISTS additional_services (\n",
        "    additional_service_id INTEGER PRIMARY KEY NOT NULL,\n",
        "    additional_service_name TEXT NOT NULL,\n",
        "    price REAL NULL,\n",
        "    pricing_unit TEXT NULL\n",
        ");\n",
        "''')\n",
        "\n",
        "# Create the \"rental_additional_services\" table (junction table)\n",
        "cursor.execute('''\n",
        "CREATE TABLE IF NOT EXISTS rental_additional_services (\n",
        "    rental_id INTEGER NOT NULL,\n",
        "    additional_service_id INTEGER NOT NULL,\n",
        "    discount REAL NOT NULL DEFAULT 0,\n",
        "    final_price REAL NOT NULL,\n",
        "    PRIMARY KEY (rental_id, additional_service_id),\n",
        "    FOREIGN KEY (rental_id) REFERENCES rentals(rental_id),\n",
        "    FOREIGN KEY (additional_service_id) REFERENCES additional_services(additional_service_id)\n",
        ");\n",
        "''')\n",
        "\n",
        "conn.commit()\n",
        "print(\"Database and tables created successfully.\")"
      ],
      "metadata": {
        "colab": {
          "base_uri": "https://localhost:8080/"
        },
        "id": "B3e4ZnYsgt0m",
        "outputId": "b7a005ba-fe0f-4e96-f4b9-9e0600b05301"
      },
      "execution_count": null,
      "outputs": [
        {
          "output_type": "stream",
          "name": "stdout",
          "text": [
            "Database and tables created successfully.\n"
          ]
        }
      ]
    },
    {
      "cell_type": "markdown",
      "source": [
        "# Database Schema *Check*\n",
        "(Outputs are Presented in Page 4 - 8)"
      ],
      "metadata": {
        "id": "micNu-AIVb73"
      }
    },
    {
      "cell_type": "code",
      "source": [
        "# Get table names from the schema\n",
        "cursor.execute(\"SELECT name FROM sqlite_master WHERE type='table';\")\n",
        "tables = cursor.fetchall()\n",
        "\n",
        "for table_name in tables:\n",
        "    table = table_name[0]\n",
        "    print(f\"Table: {table}\")\n",
        "\n",
        "    # Get column info for the current table\n",
        "    cursor.execute(f\"PRAGMA table_info({table});\")\n",
        "    columns = cursor.fetchall()\n",
        "\n",
        "    # Get foreign key info for the current table\n",
        "    cursor.execute(f\"PRAGMA foreign_key_list({table});\")\n",
        "    foreign_keys = cursor.fetchall()\n",
        "\n",
        "    # foreign_keys tuple structure: (id, seq, ref_table, fk_from, ref_column, on_update, on_delete, match)\n",
        "    # Build a dictionary mapping each foreign key column to its referenced table(s)\n",
        "    fk_ref = {}\n",
        "    for fk in foreign_keys:\n",
        "        col_from = fk[3]      # the \"from\" column in the current table\n",
        "        ref_table = fk[2]     # the referenced table name\n",
        "        if col_from in fk_ref:\n",
        "            fk_ref[col_from].append(ref_table)\n",
        "        else:\n",
        "            fk_ref[col_from] = [ref_table]\n",
        "\n",
        "    # Define headers for tabulate output\n",
        "    headers = [\"Column\", \"Type\", \"Not Null\", \"Default Value\", \"Primary Key\", \"Foreign Key\", \"Reference Table\"]\n",
        "    rows = []\n",
        "    for col in columns:\n",
        "        # col structure: (cid, name, type, notnull, dflt_value, pk)\n",
        "        column_name = col[1]\n",
        "        is_fk = 1 if column_name in fk_ref else 0\n",
        "        ref_tables = \", \".join(fk_ref[column_name]) if column_name in fk_ref else \"\"\n",
        "        rows.append([column_name, col[2], col[3], col[4], col[5], is_fk, ref_tables])\n",
        "\n",
        "    # Print the table information using tabulate\n",
        "    print(tabulate(rows, headers=headers, tablefmt=\"pretty\"))\n",
        "    print(\"-\" * 40)"
      ],
      "metadata": {
        "colab": {
          "base_uri": "https://localhost:8080/"
        },
        "id": "th54NyseVOvS",
        "outputId": "83509152-0b6e-48d0-a231-911a225c0d29",
        "collapsed": true
      },
      "execution_count": null,
      "outputs": [
        {
          "output_type": "stream",
          "name": "stdout",
          "text": [
            "Table: customers\n",
            "+-------------------+------+----------+---------------+-------------+-------------+-----------------+\n",
            "|      Column       | Type | Not Null | Default Value | Primary Key | Foreign Key | Reference Table |\n",
            "+-------------------+------+----------+---------------+-------------+-------------+-----------------+\n",
            "|    customer_id    | TEXT |    1     |               |      1      |      0      |                 |\n",
            "|    first_name     | TEXT |    1     |               |      0      |      0      |                 |\n",
            "|     last_name     | TEXT |    1     |               |      0      |      0      |                 |\n",
            "|        sex        | TEXT |    1     |               |      0      |      0      |                 |\n",
            "|     birthdate     | DATE |    1     |               |      0      |      0      |                 |\n",
            "| driver_license_id | TEXT |    1     |               |      0      |      0      |                 |\n",
            "|   issue_country   | TEXT |    1     |               |      0      |      0      |                 |\n",
            "|   country_code    | TEXT |    1     |               |      0      |      0      |                 |\n",
            "|       phone       | TEXT |    1     |               |      0      |      0      |                 |\n",
            "|       email       | TEXT |    0     |               |      0      |      0      |                 |\n",
            "|      street       | TEXT |    1     |               |      0      |      0      |                 |\n",
            "|       city        | TEXT |    1     |               |      0      |      0      |                 |\n",
            "|      county       | TEXT |    0     |               |      0      |      0      |                 |\n",
            "|     postcode      | TEXT |    1     |               |      0      |      0      |                 |\n",
            "|     join_date     | DATE |    1     |               |      0      |      0      |                 |\n",
            "+-------------------+------+----------+---------------+-------------+-------------+-----------------+\n",
            "----------------------------------------\n",
            "Table: rentals\n",
            "+-------------------+---------+----------+---------------+-------------+-------------+-----------------+\n",
            "|      Column       |  Type   | Not Null | Default Value | Primary Key | Foreign Key | Reference Table |\n",
            "+-------------------+---------+----------+---------------+-------------+-------------+-----------------+\n",
            "|     rental_id     | INTEGER |    1     |               |      1      |      0      |                 |\n",
            "|    customer_id    |  TEXT   |    1     |               |      0      |      1      |    customers    |\n",
            "|    vehicle_id     |  TEXT   |    1     |               |      0      |      1      |    vehicles     |\n",
            "| rental_start_date |  DATE   |    1     |               |      0      |      0      |                 |\n",
            "|  rental_end_date  |  DATE   |    1     |               |      0      |      0      |                 |\n",
            "|  rental_duration  | INTEGER |    1     |               |      0      |      0      |                 |\n",
            "|     discount      |  REAL   |    1     |       0       |      0      |      0      |                 |\n",
            "+-------------------+---------+----------+---------------+-------------+-------------+-----------------+\n",
            "----------------------------------------\n",
            "Table: payments\n",
            "+----------------+---------+----------+---------------+-------------+-------------+-----------------+\n",
            "|     Column     |  Type   | Not Null | Default Value | Primary Key | Foreign Key | Reference Table |\n",
            "+----------------+---------+----------+---------------+-------------+-------------+-----------------+\n",
            "|   payment_id   | INTEGER |    1     |               |      1      |      0      |                 |\n",
            "|   rental_id    | INTEGER |    1     |               |      0      |      1      |     rentals     |\n",
            "|  payment_date  |  DATE   |    1     |               |      0      |      0      |                 |\n",
            "|  payment_type  |  TEXT   |    1     |               |      0      |      0      |                 |\n",
            "| payment_amount |  REAL   |    1     |               |      0      |      0      |                 |\n",
            "+----------------+---------+----------+---------------+-------------+-------------+-----------------+\n",
            "----------------------------------------\n",
            "Table: vehicles\n",
            "+----------------------+---------+----------+---------------+-------------+-------------+-----------------+\n",
            "|        Column        |  Type   | Not Null | Default Value | Primary Key | Foreign Key | Reference Table |\n",
            "+----------------------+---------+----------+---------------+-------------+-------------+-----------------+\n",
            "|      vehicle_id      |  TEXT   |    1     |               |      1      |      0      |                 |\n",
            "| license_plate_number |  TEXT   |    1     |               |      0      |      0      |                 |\n",
            "|         vin          |  TEXT   |    1     |               |      0      |      0      |                 |\n",
            "|      branch_id       |  TEXT   |    1     |               |      0      |      1      |    branches     |\n",
            "|         make         |  TEXT   |    1     |               |      0      |      0      |                 |\n",
            "|        model         |  TEXT   |    1     |               |      0      |      0      |                 |\n",
            "|   manufacture_year   | INTEGER |    1     |               |      0      |      0      |                 |\n",
            "|   current_mileage    | INTEGER |    1     |               |      0      |      0      |                 |\n",
            "|      daily_rate      |  REAL   |    1     |               |      0      |      0      |                 |\n",
            "|    deposit_amount    |  REAL   |    1     |               |      0      |      0      |                 |\n",
            "|    vehicle_status    |  TEXT   |    1     |               |      0      |      0      |                 |\n",
            "| next_available_date  |  DATE   |    0     |               |      0      |      0      |                 |\n",
            "+----------------------+---------+----------+---------------+-------------+-------------+-----------------+\n",
            "----------------------------------------\n",
            "Table: branches\n",
            "+-------------+------+----------+---------------+-------------+-------------+-----------------+\n",
            "|   Column    | Type | Not Null | Default Value | Primary Key | Foreign Key | Reference Table |\n",
            "+-------------+------+----------+---------------+-------------+-------------+-----------------+\n",
            "|  branch_id  | TEXT |    1     |               |      1      |      0      |                 |\n",
            "| branch_name | TEXT |    1     |               |      0      |      0      |                 |\n",
            "|   street    | TEXT |    1     |               |      0      |      0      |                 |\n",
            "|    city     | TEXT |    1     |               |      0      |      0      |                 |\n",
            "|   county    | TEXT |    1     |               |      0      |      0      |                 |\n",
            "|  postcode   | TEXT |    1     |               |      0      |      0      |                 |\n",
            "|    phone    | TEXT |    1     |               |      0      |      0      |                 |\n",
            "|    email    | TEXT |    1     |               |      0      |      0      |                 |\n",
            "+-------------+------+----------+---------------+-------------+-------------+-----------------+\n",
            "----------------------------------------\n",
            "Table: insurance\n",
            "+----------------+------+----------+---------------+-------------+-------------+-----------------+\n",
            "|     Column     | Type | Not Null | Default Value | Primary Key | Foreign Key | Reference Table |\n",
            "+----------------+------+----------+---------------+-------------+-------------+-----------------+\n",
            "| policy_number  | TEXT |    1     |               |      1      |      0      |                 |\n",
            "|    provider    | TEXT |    1     |               |      0      |      0      |                 |\n",
            "|   vehicle_id   | TEXT |    1     |               |      0      |      1      |    vehicles     |\n",
            "|  policy_type   | TEXT |    1     |               |      0      |      0      |                 |\n",
            "| premium_amount | REAL |    1     |               |      0      |      0      |                 |\n",
            "|   start_date   | DATE |    1     |               |      0      |      0      |                 |\n",
            "|    end_date    | DATE |    1     |               |      0      |      0      |                 |\n",
            "+----------------+------+----------+---------------+-------------+-------------+-----------------+\n",
            "----------------------------------------\n",
            "Table: maintenance\n",
            "+----------------------+---------+----------+---------------+-------------+-------------+-----------------+\n",
            "|        Column        |  Type   | Not Null | Default Value | Primary Key | Foreign Key | Reference Table |\n",
            "+----------------------+---------+----------+---------------+-------------+-------------+-----------------+\n",
            "|    maintenance_id    |  TEXT   |    1     |               |      1      |      0      |                 |\n",
            "|      vehicle_id      |  TEXT   |    1     |               |      0      |      1      |    vehicles     |\n",
            "|     service_date     |  DATE   |    1     |               |      0      |      0      |                 |\n",
            "|   service_end_date   |  DATE   |    0     |               |      0      |      0      |                 |\n",
            "|   service_duration   | INTEGER |    0     |               |      0      |      0      |                 |\n",
            "| service_description  |  TEXT   |    0     |               |      0      |      0      |                 |\n",
            "|     service_cost     |  REAL   |    0     |               |      0      |      0      |                 |\n",
            "|   odometer_reading   | INTEGER |    1     |               |      0      |      0      |                 |\n",
            "|  service_center_id   |  TEXT   |    1     |               |      0      |      0      |                 |\n",
            "| next_maintenance_due | INTEGER |    1     |               |      0      |      0      |                 |\n",
            "+----------------------+---------+----------+---------------+-------------+-------------+-----------------+\n",
            "----------------------------------------\n",
            "Table: accidents\n",
            "+------------------------+---------+----------+---------------+-------------+-------------+-----------------+\n",
            "|         Column         |  Type   | Not Null | Default Value | Primary Key | Foreign Key | Reference Table |\n",
            "+------------------------+---------+----------+---------------+-------------+-------------+-----------------+\n",
            "|      accident_id       |  TEXT   |    1     |               |      1      |      0      |                 |\n",
            "|       vehicle_id       |  TEXT   |    1     |               |      0      |      1      |    vehicles     |\n",
            "|     accident_date      |  DATE   |    1     |               |      0      |      0      |                 |\n",
            "|  accident_description  |  TEXT   |    1     |               |      0      |      0      |                 |\n",
            "|   repair_start_date    |  DATE   |    0     |               |      0      |      0      |                 |\n",
            "|    repair_end_date     |  DATE   |    0     |               |      0      |      0      |                 |\n",
            "|    repair_duration     | INTEGER |    0     |               |      0      |      0      |                 |\n",
            "|      repair_cost       |  REAL   |    0     |               |      0      |      0      |                 |\n",
            "| insurance_claim_number |  TEXT   |    0     |               |      0      |      0      |                 |\n",
            "|      claim_status      |  TEXT   |    0     |               |      0      |      0      |                 |\n",
            "+------------------------+---------+----------+---------------+-------------+-------------+-----------------+\n",
            "----------------------------------------\n",
            "Table: additional_services\n",
            "+-------------------------+---------+----------+---------------+-------------+-------------+-----------------+\n",
            "|         Column          |  Type   | Not Null | Default Value | Primary Key | Foreign Key | Reference Table |\n",
            "+-------------------------+---------+----------+---------------+-------------+-------------+-----------------+\n",
            "|  additional_service_id  | INTEGER |    1     |               |      1      |      0      |                 |\n",
            "| additional_service_name |  TEXT   |    1     |               |      0      |      0      |                 |\n",
            "|          price          |  REAL   |    0     |               |      0      |      0      |                 |\n",
            "|      pricing_unit       |  TEXT   |    0     |               |      0      |      0      |                 |\n",
            "+-------------------------+---------+----------+---------------+-------------+-------------+-----------------+\n",
            "----------------------------------------\n",
            "Table: rental_additional_services\n",
            "+-----------------------+---------+----------+---------------+-------------+-------------+---------------------+\n",
            "|        Column         |  Type   | Not Null | Default Value | Primary Key | Foreign Key |   Reference Table   |\n",
            "+-----------------------+---------+----------+---------------+-------------+-------------+---------------------+\n",
            "|       rental_id       | INTEGER |    1     |               |      1      |      1      |       rentals       |\n",
            "| additional_service_id | INTEGER |    1     |               |      2      |      1      | additional_services |\n",
            "|       discount        |  REAL   |    1     |       0       |      0      |      0      |                     |\n",
            "|      final_price      |  REAL   |    1     |               |      0      |      0      |                     |\n",
            "+-----------------------+---------+----------+---------------+-------------+-------------+---------------------+\n",
            "----------------------------------------\n"
          ]
        }
      ]
    },
    {
      "cell_type": "markdown",
      "source": [
        "# Load the Synthetic Data"
      ],
      "metadata": {
        "id": "0rg0tPpq3Mag"
      }
    },
    {
      "cell_type": "code",
      "source": [
        "# Upload the synthetic data\n",
        "uploaded = files.upload()"
      ],
      "metadata": {
        "colab": {
          "base_uri": "https://localhost:8080/",
          "height": 386
        },
        "id": "9GADca3F7bjw",
        "outputId": "16f8ee04-8574-4322-bda2-445bc65fbad6",
        "collapsed": true
      },
      "execution_count": null,
      "outputs": [
        {
          "output_type": "display_data",
          "data": {
            "text/plain": [
              "<IPython.core.display.HTML object>"
            ],
            "text/html": [
              "\n",
              "     <input type=\"file\" id=\"files-052ff504-b938-4a96-9531-f41816e4f82c\" name=\"files[]\" multiple disabled\n",
              "        style=\"border:none\" />\n",
              "     <output id=\"result-052ff504-b938-4a96-9531-f41816e4f82c\">\n",
              "      Upload widget is only available when the cell has been executed in the\n",
              "      current browser session. Please rerun this cell to enable.\n",
              "      </output>\n",
              "      <script>// Copyright 2017 Google LLC\n",
              "//\n",
              "// Licensed under the Apache License, Version 2.0 (the \"License\");\n",
              "// you may not use this file except in compliance with the License.\n",
              "// You may obtain a copy of the License at\n",
              "//\n",
              "//      http://www.apache.org/licenses/LICENSE-2.0\n",
              "//\n",
              "// Unless required by applicable law or agreed to in writing, software\n",
              "// distributed under the License is distributed on an \"AS IS\" BASIS,\n",
              "// WITHOUT WARRANTIES OR CONDITIONS OF ANY KIND, either express or implied.\n",
              "// See the License for the specific language governing permissions and\n",
              "// limitations under the License.\n",
              "\n",
              "/**\n",
              " * @fileoverview Helpers for google.colab Python module.\n",
              " */\n",
              "(function(scope) {\n",
              "function span(text, styleAttributes = {}) {\n",
              "  const element = document.createElement('span');\n",
              "  element.textContent = text;\n",
              "  for (const key of Object.keys(styleAttributes)) {\n",
              "    element.style[key] = styleAttributes[key];\n",
              "  }\n",
              "  return element;\n",
              "}\n",
              "\n",
              "// Max number of bytes which will be uploaded at a time.\n",
              "const MAX_PAYLOAD_SIZE = 100 * 1024;\n",
              "\n",
              "function _uploadFiles(inputId, outputId) {\n",
              "  const steps = uploadFilesStep(inputId, outputId);\n",
              "  const outputElement = document.getElementById(outputId);\n",
              "  // Cache steps on the outputElement to make it available for the next call\n",
              "  // to uploadFilesContinue from Python.\n",
              "  outputElement.steps = steps;\n",
              "\n",
              "  return _uploadFilesContinue(outputId);\n",
              "}\n",
              "\n",
              "// This is roughly an async generator (not supported in the browser yet),\n",
              "// where there are multiple asynchronous steps and the Python side is going\n",
              "// to poll for completion of each step.\n",
              "// This uses a Promise to block the python side on completion of each step,\n",
              "// then passes the result of the previous step as the input to the next step.\n",
              "function _uploadFilesContinue(outputId) {\n",
              "  const outputElement = document.getElementById(outputId);\n",
              "  const steps = outputElement.steps;\n",
              "\n",
              "  const next = steps.next(outputElement.lastPromiseValue);\n",
              "  return Promise.resolve(next.value.promise).then((value) => {\n",
              "    // Cache the last promise value to make it available to the next\n",
              "    // step of the generator.\n",
              "    outputElement.lastPromiseValue = value;\n",
              "    return next.value.response;\n",
              "  });\n",
              "}\n",
              "\n",
              "/**\n",
              " * Generator function which is called between each async step of the upload\n",
              " * process.\n",
              " * @param {string} inputId Element ID of the input file picker element.\n",
              " * @param {string} outputId Element ID of the output display.\n",
              " * @return {!Iterable<!Object>} Iterable of next steps.\n",
              " */\n",
              "function* uploadFilesStep(inputId, outputId) {\n",
              "  const inputElement = document.getElementById(inputId);\n",
              "  inputElement.disabled = false;\n",
              "\n",
              "  const outputElement = document.getElementById(outputId);\n",
              "  outputElement.innerHTML = '';\n",
              "\n",
              "  const pickedPromise = new Promise((resolve) => {\n",
              "    inputElement.addEventListener('change', (e) => {\n",
              "      resolve(e.target.files);\n",
              "    });\n",
              "  });\n",
              "\n",
              "  const cancel = document.createElement('button');\n",
              "  inputElement.parentElement.appendChild(cancel);\n",
              "  cancel.textContent = 'Cancel upload';\n",
              "  const cancelPromise = new Promise((resolve) => {\n",
              "    cancel.onclick = () => {\n",
              "      resolve(null);\n",
              "    };\n",
              "  });\n",
              "\n",
              "  // Wait for the user to pick the files.\n",
              "  const files = yield {\n",
              "    promise: Promise.race([pickedPromise, cancelPromise]),\n",
              "    response: {\n",
              "      action: 'starting',\n",
              "    }\n",
              "  };\n",
              "\n",
              "  cancel.remove();\n",
              "\n",
              "  // Disable the input element since further picks are not allowed.\n",
              "  inputElement.disabled = true;\n",
              "\n",
              "  if (!files) {\n",
              "    return {\n",
              "      response: {\n",
              "        action: 'complete',\n",
              "      }\n",
              "    };\n",
              "  }\n",
              "\n",
              "  for (const file of files) {\n",
              "    const li = document.createElement('li');\n",
              "    li.append(span(file.name, {fontWeight: 'bold'}));\n",
              "    li.append(span(\n",
              "        `(${file.type || 'n/a'}) - ${file.size} bytes, ` +\n",
              "        `last modified: ${\n",
              "            file.lastModifiedDate ? file.lastModifiedDate.toLocaleDateString() :\n",
              "                                    'n/a'} - `));\n",
              "    const percent = span('0% done');\n",
              "    li.appendChild(percent);\n",
              "\n",
              "    outputElement.appendChild(li);\n",
              "\n",
              "    const fileDataPromise = new Promise((resolve) => {\n",
              "      const reader = new FileReader();\n",
              "      reader.onload = (e) => {\n",
              "        resolve(e.target.result);\n",
              "      };\n",
              "      reader.readAsArrayBuffer(file);\n",
              "    });\n",
              "    // Wait for the data to be ready.\n",
              "    let fileData = yield {\n",
              "      promise: fileDataPromise,\n",
              "      response: {\n",
              "        action: 'continue',\n",
              "      }\n",
              "    };\n",
              "\n",
              "    // Use a chunked sending to avoid message size limits. See b/62115660.\n",
              "    let position = 0;\n",
              "    do {\n",
              "      const length = Math.min(fileData.byteLength - position, MAX_PAYLOAD_SIZE);\n",
              "      const chunk = new Uint8Array(fileData, position, length);\n",
              "      position += length;\n",
              "\n",
              "      const base64 = btoa(String.fromCharCode.apply(null, chunk));\n",
              "      yield {\n",
              "        response: {\n",
              "          action: 'append',\n",
              "          file: file.name,\n",
              "          data: base64,\n",
              "        },\n",
              "      };\n",
              "\n",
              "      let percentDone = fileData.byteLength === 0 ?\n",
              "          100 :\n",
              "          Math.round((position / fileData.byteLength) * 100);\n",
              "      percent.textContent = `${percentDone}% done`;\n",
              "\n",
              "    } while (position < fileData.byteLength);\n",
              "  }\n",
              "\n",
              "  // All done.\n",
              "  yield {\n",
              "    response: {\n",
              "      action: 'complete',\n",
              "    }\n",
              "  };\n",
              "}\n",
              "\n",
              "scope.google = scope.google || {};\n",
              "scope.google.colab = scope.google.colab || {};\n",
              "scope.google.colab._files = {\n",
              "  _uploadFiles,\n",
              "  _uploadFilesContinue,\n",
              "};\n",
              "})(self);\n",
              "</script> "
            ]
          },
          "metadata": {}
        },
        {
          "output_type": "stream",
          "name": "stdout",
          "text": [
            "Saving accidents.csv to accidents.csv\n",
            "Saving additional_services.csv to additional_services.csv\n",
            "Saving branches.csv to branches.csv\n",
            "Saving customers.csv to customers.csv\n",
            "Saving insurance.csv to insurance.csv\n",
            "Saving maintenance.csv to maintenance.csv\n",
            "Saving payments.csv to payments.csv\n",
            "Saving rental_additional_services.csv to rental_additional_services.csv\n",
            "Saving rentals.csv to rentals.csv\n",
            "Saving vehicles.csv to vehicles.csv\n"
          ]
        }
      ]
    },
    {
      "cell_type": "code",
      "source": [
        "def import_csv_to_table(csv_file, table_name):\n",
        "    # Open the CSV file and create a reader, skipping the header row\n",
        "    with open(csv_file, 'r', encoding='utf-8') as file:\n",
        "        csv_reader = csv.reader(file)\n",
        "        next(csv_reader)  # Skip header row if present\n",
        "        # For each row in the CSV, build and execute an INSERT query\n",
        "        for row in csv_reader:\n",
        "            placeholders = ', '.join(['?' for _ in row])\n",
        "            sql = f\"INSERT INTO {table_name} VALUES ({placeholders})\"\n",
        "            cursor.execute(sql, row)\n",
        "\n",
        "try:\n",
        "    import_csv_to_table('branches.csv', 'branches')\n",
        "    import_csv_to_table('vehicles.csv', 'vehicles')\n",
        "    import_csv_to_table('customers.csv', 'customers')\n",
        "    import_csv_to_table('additional_services.csv', 'additional_services')\n",
        "    import_csv_to_table('rentals.csv', 'rentals')\n",
        "    import_csv_to_table('payments.csv', 'payments')\n",
        "    import_csv_to_table('accidents.csv', 'accidents')\n",
        "    import_csv_to_table('maintenance.csv', 'maintenance')\n",
        "    import_csv_to_table('insurance.csv', 'insurance')\n",
        "    import_csv_to_table('rental_additional_services.csv', 'rental_additional_services')\n",
        "\n",
        "    conn.commit()\n",
        "    print(\"Data imported successfully!\")\n",
        "except Exception as e:\n",
        "    print(f\"An error occurred: {e}\")\n",
        "    conn.rollback()"
      ],
      "metadata": {
        "colab": {
          "base_uri": "https://localhost:8080/"
        },
        "id": "IhmqT5Dw7isq",
        "outputId": "4ae7d5a6-700a-4669-985b-a7506bab2229"
      },
      "execution_count": null,
      "outputs": [
        {
          "output_type": "stream",
          "name": "stdout",
          "text": [
            "Data imported successfully!\n"
          ]
        }
      ]
    },
    {
      "cell_type": "markdown",
      "source": [
        "# Data Integrity Checks"
      ],
      "metadata": {
        "id": "G7_MAOth3RnM"
      }
    },
    {
      "cell_type": "markdown",
      "source": [
        "## Record Count Check"
      ],
      "metadata": {
        "id": "pAnD1BkW3VjD"
      }
    },
    {
      "cell_type": "code",
      "source": [
        "csv_files = {\n",
        "    \"customers\": \"customers.csv\",\n",
        "    \"rentals\": \"rentals.csv\",\n",
        "    \"payments\": \"payments.csv\",\n",
        "    \"vehicles\": \"vehicles.csv\",\n",
        "    \"branches\": \"branches.csv\",\n",
        "    \"insurance\": \"insurance.csv\",\n",
        "    \"maintenance\": \"maintenance.csv\",\n",
        "    \"accidents\": \"accidents.csv\",\n",
        "    \"additional_services\": \"additional_services.csv\",\n",
        "    \"rental_additional_services\": \"rental_additional_services.csv\"\n",
        "}\n",
        "\n",
        "\n",
        "# Dictionary to store record counts\n",
        "csv_counts = {}\n",
        "\n",
        "# Count the number of records in each CSV file\n",
        "for table, file_path in csv_files.items():\n",
        "    try:\n",
        "        df = pd.read_csv(file_path)\n",
        "        csv_counts[table] = len(df)\n",
        "    except Exception as e:\n",
        "        csv_counts[table] = f\"Error: {e}\"\n",
        "\n",
        "\n",
        "# List of tables to check for record counts\n",
        "tables_to_check = [\n",
        "    'customers',\n",
        "    'rentals',\n",
        "    'payments',\n",
        "    'vehicles',\n",
        "    'branches',\n",
        "    'insurance',\n",
        "    'maintenance',\n",
        "    'accidents',\n",
        "    'additional_services',\n",
        "    'rental_additional_services'\n",
        "]\n",
        "\n",
        "# Dictionary to store database record counts\n",
        "db_counts = {}\n",
        "\n",
        "\n",
        "# Iterate through each table in the list\n",
        "for table in tables_to_check:\n",
        "    try:\n",
        "        # Execute a SQL query to count the records in the current table\n",
        "        df_count = pd.read_sql_query(f\"SELECT COUNT(*) AS total_records FROM {table};\", conn)\n",
        "        db_counts[table] = df_count['total_records'].iloc[0]\n",
        "    except Exception as e:\n",
        "        db_counts[table] = f\"Error: {e}\"\n",
        "\n",
        "# Create a DataFrame for comparison\n",
        "comparison_df = pd.DataFrame({\n",
        "    \"Table\": tables_to_check,\n",
        "    \"CSV Record Count\": [csv_counts.get(table, \"N/A\") for table in tables_to_check],\n",
        "    \"DB Record Count\": [db_counts.get(table, \"N/A\") for table in tables_to_check]\n",
        "})\n",
        "\n",
        "print(comparison_df)"
      ],
      "metadata": {
        "colab": {
          "base_uri": "https://localhost:8080/"
        },
        "id": "LIwsFIuhdQgp",
        "outputId": "1a33b2ea-0a82-4fd9-efe9-e003e2c79b1e"
      },
      "execution_count": null,
      "outputs": [
        {
          "output_type": "stream",
          "name": "stdout",
          "text": [
            "                        Table  CSV Record Count  DB Record Count\n",
            "0                   customers             22498            22498\n",
            "1                     rentals             27539            27539\n",
            "2                    payments             33182            33182\n",
            "3                    vehicles               150              150\n",
            "4                    branches                10               10\n",
            "5                   insurance               587              587\n",
            "6                 maintenance               726              726\n",
            "7                   accidents                32               32\n",
            "8         additional_services                 7                7\n",
            "9  rental_additional_services             80068            80068\n"
          ]
        }
      ]
    },
    {
      "cell_type": "markdown",
      "source": [
        "## Unique Primary Key Check"
      ],
      "metadata": {
        "id": "qXyKrP0w3gCA"
      }
    },
    {
      "cell_type": "code",
      "source": [
        "# Map each table to its primary key column(s). For composite keys, columns are concatenated\n",
        "tables_and_keys = {\n",
        "    'accidents': 'accident_id',\n",
        "    'additional_services': 'additional_service_id',\n",
        "    'branches': 'branch_id',\n",
        "    'customers': 'customer_id',\n",
        "    'insurance': 'policy_number',\n",
        "    'maintenance': 'maintenance_id',\n",
        "    'payments': 'payment_id',\n",
        "    'rental_additional_services': 'rental_id || additional_service_id',  # Composite key\n",
        "    'rentals': 'rental_id',\n",
        "    'vehicles': 'vehicle_id'\n",
        "}\n",
        "\n",
        "# Loop through each table, grouping by the primary key and checking for duplicates\n",
        "for table, key in tables_and_keys.items():\n",
        "    query = f\"\"\"\n",
        "    SELECT {key} AS key_val, COUNT(*) AS count\n",
        "    FROM {table}\n",
        "    GROUP BY key_val\n",
        "    HAVING COUNT(*) > 1;\n",
        "    \"\"\"\n",
        "\n",
        "    # Execute the query and fetch results\n",
        "    cursor.execute(query)\n",
        "    duplicates = cursor.fetchall()\n",
        "\n",
        "    # Output the results\n",
        "    if duplicates:\n",
        "        print(f\"Duplicates found in table '{table}':\")\n",
        "        for row in duplicates:\n",
        "            print(row)\n",
        "    else:\n",
        "        print(f\"No duplicates in table '{table}'.\")"
      ],
      "metadata": {
        "colab": {
          "base_uri": "https://localhost:8080/"
        },
        "id": "awb_H2Niuebt",
        "outputId": "84094251-4389-4cf7-e637-1ac937609362"
      },
      "execution_count": null,
      "outputs": [
        {
          "output_type": "stream",
          "name": "stdout",
          "text": [
            "No duplicates in table 'accidents'.\n",
            "No duplicates in table 'additional_services'.\n",
            "No duplicates in table 'branches'.\n",
            "No duplicates in table 'customers'.\n",
            "No duplicates in table 'insurance'.\n",
            "No duplicates in table 'maintenance'.\n",
            "No duplicates in table 'payments'.\n",
            "No duplicates in table 'rental_additional_services'.\n",
            "No duplicates in table 'rentals'.\n",
            "No duplicates in table 'vehicles'.\n"
          ]
        }
      ]
    },
    {
      "cell_type": "markdown",
      "source": [
        "## Invalid Value Check"
      ],
      "metadata": {
        "id": "mF2RGI2m3kL4"
      }
    },
    {
      "cell_type": "code",
      "source": [
        "# Check for invalid sex values in customers\n",
        "cursor.execute(\"SELECT customer_id, sex FROM customers WHERE sex NOT IN ('M', 'F');\")\n",
        "invalid_sex = cursor.fetchall()\n",
        "if invalid_sex:\n",
        "    print(\"Invalid sex values found in customers:\")\n",
        "    for row in invalid_sex:\n",
        "        print(row)\n",
        "else:\n",
        "    print(\"All 'sex' values in customers are valid.\")\n",
        "\n",
        "# Check for invalid vehicle_status in vehicles\n",
        "cursor.execute(\"\"\"\n",
        "    SELECT vehicle_id, vehicle_status\n",
        "    FROM vehicles\n",
        "    WHERE vehicle_status NOT IN ('Available', 'Rented', 'Servicing', 'Totalled');\n",
        "\"\"\")\n",
        "invalid_status = cursor.fetchall()\n",
        "if invalid_status:\n",
        "    print(\"Invalid vehicle_status values found in vehicles:\")\n",
        "    for row in invalid_status:\n",
        "        print(row)\n",
        "else:\n",
        "    print(\"All 'vehicle_status' values in vehicles are valid.\")\n",
        "\n",
        "# Check for invalid payment_type in payments\n",
        "cursor.execute(\"\"\"\n",
        "    SELECT payment_id, payment_type\n",
        "    FROM payments\n",
        "    WHERE payment_type NOT IN ('Credit Card', 'Debit Card', 'Bank Transfer', 'Cash');\n",
        "\"\"\")\n",
        "invalid_payment = cursor.fetchall()\n",
        "if invalid_payment:\n",
        "    print(\"Invalid payment_type values found in payments:\")\n",
        "    for row in invalid_payment:\n",
        "        print(row)\n",
        "else:\n",
        "    print(\"All 'payment_type' values in payments are valid.\")"
      ],
      "metadata": {
        "colab": {
          "base_uri": "https://localhost:8080/"
        },
        "id": "aLeZK9zsu29T",
        "outputId": "852d224b-7230-4f66-c94b-93dbce6be437"
      },
      "execution_count": null,
      "outputs": [
        {
          "output_type": "stream",
          "name": "stdout",
          "text": [
            "All 'sex' values in customers are valid.\n",
            "All 'vehicle_status' values in vehicles are valid.\n",
            "All 'payment_type' values in payments are valid.\n"
          ]
        }
      ]
    },
    {
      "cell_type": "markdown",
      "source": [
        "## Rentals Integrity Check"
      ],
      "metadata": {
        "id": "vVbLNjUK3xZ5"
      }
    },
    {
      "cell_type": "markdown",
      "source": [
        "SQL query to find overlapping rentals for the same vehicle using date comparisons"
      ],
      "metadata": {
        "id": "CH94tzurxipr"
      }
    },
    {
      "cell_type": "code",
      "source": [
        "query = \"\"\"\n",
        "SELECT\n",
        "  r1.rental_id AS rental1,\n",
        "  r2.rental_id AS rental2,\n",
        "  r1.vehicle_id,\n",
        "  date(r1.rental_start_date) AS start1, date(r1.rental_end_date) AS end1,\n",
        "  date(r2.rental_start_date) AS start2, date(r2.rental_end_date) AS end2\n",
        "FROM rentals r1\n",
        "JOIN rentals r2\n",
        "  ON r1.vehicle_id = r2.vehicle_id\n",
        " AND r1.rental_id < r2.rental_id\n",
        "WHERE date(r1.rental_start_date) <= date(r2.rental_end_date)\n",
        "  AND date(r2.rental_start_date) <= date(r1.rental_end_date);\n",
        "\"\"\"\n",
        "\n",
        "# Execute the query and fetch results\n",
        "cursor.execute(query)\n",
        "overlaps = cursor.fetchall()\n",
        "\n",
        "# Output the results\n",
        "if overlaps:\n",
        "    print(\"Overlapping rentals for the same vehicle:\")\n",
        "    for overlap in overlaps:\n",
        "        print(overlap)\n",
        "else:\n",
        "    print(\"No overlapping rentals for the same vehicle found.\")\n"
      ],
      "metadata": {
        "colab": {
          "base_uri": "https://localhost:8080/"
        },
        "id": "xaQX_JarxmwO",
        "outputId": "98f18259-ee0d-4c42-b6e8-cfe29af73a66"
      },
      "execution_count": null,
      "outputs": [
        {
          "output_type": "stream",
          "name": "stdout",
          "text": [
            "No overlapping rentals for the same vehicle found.\n"
          ]
        }
      ]
    },
    {
      "cell_type": "markdown",
      "source": [
        "SQL query to find overlapping rentals for the same customer using date comparisons"
      ],
      "metadata": {
        "id": "kRFN9ma8xcsj"
      }
    },
    {
      "cell_type": "code",
      "source": [
        "query = \"\"\"\n",
        "SELECT\n",
        "  r1.rental_id AS rental1,\n",
        "  r2.rental_id AS rental2,\n",
        "  r1.customer_id,\n",
        "  date(r1.rental_start_date) AS start1, date(r1.rental_end_date) AS end1,\n",
        "  date(r2.rental_start_date) AS start2, date(r2.rental_end_date) AS end2\n",
        "FROM rentals r1\n",
        "JOIN rentals r2\n",
        "  ON r1.customer_id = r2.customer_id\n",
        " AND r1.rental_id < r2.rental_id\n",
        "WHERE date(r1.rental_start_date) <= date(r2.rental_end_date)\n",
        "  AND date(r2.rental_start_date) <= date(r1.rental_end_date);\n",
        "\"\"\"\n",
        "\n",
        "# Execute the query and fetch results\n",
        "cursor.execute(query)\n",
        "overlapping_customer_rentals = cursor.fetchall()\n",
        "\n",
        "# Output the results\n",
        "if overlapping_customer_rentals:\n",
        "    print(\"Overlapping rentals for the same customer:\")\n",
        "    for overlap in overlapping_customer_rentals:\n",
        "        print(overlap)\n",
        "else:\n",
        "    print(\"No overlapping rentals for the same customer found.\")"
      ],
      "metadata": {
        "colab": {
          "base_uri": "https://localhost:8080/"
        },
        "id": "IdnOoLK_yEVa",
        "outputId": "36d50fcd-4103-4271-f5fe-dc7fc56fa010"
      },
      "execution_count": null,
      "outputs": [
        {
          "output_type": "stream",
          "name": "stdout",
          "text": [
            "No overlapping rentals for the same customer found.\n"
          ]
        }
      ]
    },
    {
      "cell_type": "markdown",
      "source": [
        "# Business Reports\n",
        "These queries have output several tables and these tables are presented in the Business Report section."
      ],
      "metadata": {
        "id": "tUMbiiot38b9"
      }
    },
    {
      "cell_type": "markdown",
      "source": [
        "## Financial Analysis\n",
        "### 1. Branches Revenue Report 2024"
      ],
      "metadata": {
        "id": "eDGDqgLA4AMN"
      }
    },
    {
      "cell_type": "code",
      "source": [
        "# Define the query\n",
        "query = \"\"\"\n",
        "SELECT\n",
        "    b.branch_id,\n",
        "    b.branch_name,\n",
        "    SUM(CASE WHEN strftime('%m',\n",
        "         substr(p.payment_date, 7, 4) || '-' || substr(p.payment_date, 4, 2) || '-' || substr(p.payment_date, 1, 2)\n",
        "         ) = '01' THEN p.payment_amount ELSE 0 END) AS Jan_2024,\n",
        "    SUM(CASE WHEN strftime('%m',\n",
        "         substr(p.payment_date, 7, 4) || '-' || substr(p.payment_date, 4, 2) || '-' || substr(p.payment_date, 1, 2)\n",
        "         ) = '02' THEN p.payment_amount ELSE 0 END) AS Feb_2024,\n",
        "    SUM(CASE WHEN strftime('%m',\n",
        "         substr(p.payment_date, 7, 4) || '-' || substr(p.payment_date, 4, 2) || '-' || substr(p.payment_date, 1, 2)\n",
        "         ) = '03' THEN p.payment_amount ELSE 0 END) AS Mar_2024,\n",
        "    SUM(CASE WHEN strftime('%m',\n",
        "         substr(p.payment_date, 7, 4) || '-' || substr(p.payment_date, 4, 2) || '-' || substr(p.payment_date, 1, 2)\n",
        "         ) = '04' THEN p.payment_amount ELSE 0 END) AS Apr_2024,\n",
        "    SUM(CASE WHEN strftime('%m',\n",
        "         substr(p.payment_date, 7, 4) || '-' || substr(p.payment_date, 4, 2) || '-' || substr(p.payment_date, 1, 2)\n",
        "         ) = '05' THEN p.payment_amount ELSE 0 END) AS May_2024,\n",
        "    SUM(CASE WHEN strftime('%m',\n",
        "         substr(p.payment_date, 7, 4) || '-' || substr(p.payment_date, 4, 2) || '-' || substr(p.payment_date, 1, 2)\n",
        "         ) = '06' THEN p.payment_amount ELSE 0 END) AS Jun_2024,\n",
        "    SUM(CASE WHEN strftime('%m',\n",
        "         substr(p.payment_date, 7, 4) || '-' || substr(p.payment_date, 4, 2) || '-' || substr(p.payment_date, 1, 2)\n",
        "         ) = '07' THEN p.payment_amount ELSE 0 END) AS Jul_2024,\n",
        "    SUM(CASE WHEN strftime('%m',\n",
        "         substr(p.payment_date, 7, 4) || '-' || substr(p.payment_date, 4, 2) || '-' || substr(p.payment_date, 1, 2)\n",
        "         ) = '08' THEN p.payment_amount ELSE 0 END) AS Aug_2024,\n",
        "    SUM(CASE WHEN strftime('%m',\n",
        "         substr(p.payment_date, 7, 4) || '-' || substr(p.payment_date, 4, 2) || '-' || substr(p.payment_date, 1, 2)\n",
        "         ) = '09' THEN p.payment_amount ELSE 0 END) AS Sep_2024,\n",
        "    SUM(CASE WHEN strftime('%m',\n",
        "         substr(p.payment_date, 7, 4) || '-' || substr(p.payment_date, 4, 2) || '-' || substr(p.payment_date, 1, 2)\n",
        "         ) = '10' THEN p.payment_amount ELSE 0 END) AS Oct_2024,\n",
        "    SUM(CASE WHEN strftime('%m',\n",
        "         substr(p.payment_date, 7, 4) || '-' || substr(p.payment_date, 4, 2) || '-' || substr(p.payment_date, 1, 2)\n",
        "         ) = '11' THEN p.payment_amount ELSE 0 END) AS Nov_2024,\n",
        "    SUM(CASE WHEN strftime('%m',\n",
        "         substr(p.payment_date, 7, 4) || '-' || substr(p.payment_date, 4, 2) || '-' || substr(p.payment_date, 1, 2)\n",
        "         ) = '12' THEN p.payment_amount ELSE 0 END) AS Dec_2024,\n",
        "    SUM(p.payment_amount) AS Total_Annual_Revenue\n",
        "FROM branches b\n",
        "JOIN vehicles v ON b.branch_id = v.branch_id\n",
        "JOIN rentals r ON v.vehicle_id = r.vehicle_id\n",
        "JOIN payments p ON r.rental_id = p.rental_id\n",
        "WHERE (substr(p.payment_date, 7, 4) || '-' || substr(p.payment_date, 4, 2) || '-' || substr(p.payment_date, 1, 2))\n",
        "      BETWEEN '2024-01-01' AND '2024-12-31'\n",
        "GROUP BY\n",
        "    b.branch_id,\n",
        "    b.branch_name\n",
        "ORDER BY\n",
        "    b.branch_id;\n",
        "\"\"\"\n",
        "\n",
        "# Execute the query and load the results into a DataFrame\n",
        "df_revenue = pd.read_sql_query(query, conn)\n",
        "\n",
        "# Print the report\n",
        "print(\"Annual Revenue Report for 2024 by Branch:\")\n",
        "print(df_revenue)"
      ],
      "metadata": {
        "colab": {
          "base_uri": "https://localhost:8080/"
        },
        "id": "QhEZOxDTYhia",
        "outputId": "99a46aa8-68db-4561-a33c-6657a22e3a1a",
        "collapsed": true
      },
      "execution_count": null,
      "outputs": [
        {
          "output_type": "stream",
          "name": "stdout",
          "text": [
            "Annual Revenue Report for 2024 by Branch:\n",
            "  branch_id              branch_name  Jan_2024  Feb_2024  Mar_2024  Apr_2024  \\\n",
            "0    FR0001  FunRides London Central  49321.52  38968.74  47968.45  44645.63   \n",
            "1    FR0002     FunRides London West  34139.18  29677.20  30181.41  31317.01   \n",
            "2    FR0003     FunRides London East  30037.63  23066.92  28509.92  24330.85   \n",
            "3    FR0004      FunRides Manchester  40113.01  45927.25  42724.32  46055.90   \n",
            "4    FR0005      FunRides Birmingham  44012.80  38446.67  32089.35  47372.24   \n",
            "5    FR0006         FunRides Glasgow   6902.51  14075.50  13230.86  22661.21   \n",
            "6    FR0007       FunRides Edinburgh      0.00   1935.31   1948.13   1416.44   \n",
            "7    FR0008         FunRides Bristol      0.00      0.00      0.00      0.00   \n",
            "\n",
            "   May_2024  Jun_2024  Jul_2024  Aug_2024  Sep_2024  Oct_2024  Nov_2024  \\\n",
            "0  40774.26  39679.46  57774.87  57366.90  52503.60  60929.84  50413.22   \n",
            "1  32959.23  28044.82  42962.38  39185.80  40697.38  34952.56  40808.45   \n",
            "2  22610.18  25335.22  21998.47  24820.96  29236.38  34575.71  28365.43   \n",
            "3  49261.65  48389.23  63199.07  53230.47  67918.87  60084.76  61017.53   \n",
            "4  47571.00  47571.08  71090.80  80687.11  48903.58  62999.64  63497.15   \n",
            "5  20927.37  26179.46  50507.78  56492.56   3105.15   9848.37  27089.41   \n",
            "6   4406.69   7365.55  32225.89  26931.39      0.00      0.00   4879.47   \n",
            "7      0.00      0.00   2384.75   2215.65      0.00      0.00      0.00   \n",
            "\n",
            "   Dec_2024  Total_Annual_Revenue  \n",
            "0  66142.21             606488.70  \n",
            "1  38719.40             423644.82  \n",
            "2  32064.49             324952.16  \n",
            "3  62248.35             640170.41  \n",
            "4  52389.16             636630.58  \n",
            "5  10176.21             261196.39  \n",
            "6      0.00              81108.87  \n",
            "7      0.00               4600.40  \n"
          ]
        }
      ]
    },
    {
      "cell_type": "markdown",
      "source": [
        "### 2. Year-Over-Year (YoY) and Quarter-over-Quarter (QoQ) Revenue Growth Report"
      ],
      "metadata": {
        "id": "kW1tPl-imcPP"
      }
    },
    {
      "cell_type": "code",
      "source": [
        "# Define the query\n",
        "query = \"\"\"\n",
        "WITH quarterly_revenue AS (\n",
        "    SELECT\n",
        "        CAST(substr(r.rental_start_date, 7, 4) AS INTEGER) AS rental_year,\n",
        "        CASE\n",
        "            WHEN CAST(substr(r.rental_start_date, 4, 2) AS INTEGER) BETWEEN 1 AND 3 THEN 'Q1'\n",
        "            WHEN CAST(substr(r.rental_start_date, 4, 2) AS INTEGER) BETWEEN 4 AND 6 THEN 'Q2'\n",
        "            WHEN CAST(substr(r.rental_start_date, 4, 2) AS INTEGER) BETWEEN 7 AND 9 THEN 'Q3'\n",
        "            ELSE 'Q4'\n",
        "        END AS rental_quarter,\n",
        "        SUM(p.payment_amount) AS total_revenue\n",
        "    FROM rentals r\n",
        "    JOIN payments p ON r.rental_id = p.rental_id\n",
        "    JOIN rental_additional_services ras ON r.rental_id = ras.rental_id\n",
        "    JOIN additional_services as2 ON ras.additional_service_id = as2.additional_service_id\n",
        "    GROUP BY rental_year, rental_quarter\n",
        ")\n",
        "\n",
        "SELECT\n",
        "    curr.rental_year || '-' || curr.rental_quarter AS rental_period,\n",
        "    curr.total_revenue,\n",
        "\n",
        "    -- YoY Calculation\n",
        "    prev_year.total_revenue AS prev_year_revenue,\n",
        "    CASE\n",
        "        WHEN prev_year.total_revenue IS NOT NULL\n",
        "        THEN ROUND(((curr.total_revenue - prev_year.total_revenue) / prev_year.total_revenue) * 100, 2)\n",
        "        ELSE NULL\n",
        "    END AS yoy_growth_percentage,\n",
        "\n",
        "    -- QoQ Calculation\n",
        "    prev_quarter.total_revenue AS prev_quarter_revenue,\n",
        "    CASE\n",
        "        WHEN prev_quarter.total_revenue IS NOT NULL\n",
        "        THEN ROUND(((curr.total_revenue - prev_quarter.total_revenue) / prev_quarter.total_revenue) * 100, 2)\n",
        "        ELSE NULL\n",
        "    END AS qoq_growth_percentage\n",
        "\n",
        "FROM quarterly_revenue curr\n",
        "\n",
        "-- Join for YoY growth (previous year, same quarter)\n",
        "LEFT JOIN quarterly_revenue prev_year\n",
        "ON curr.rental_quarter = prev_year.rental_quarter\n",
        "AND curr.rental_year = prev_year.rental_year + 1\n",
        "\n",
        "-- Join for QoQ growth (previous quarter, same year or previous year if crossing Q4 to Q1)\n",
        "LEFT JOIN quarterly_revenue prev_quarter\n",
        "ON (\n",
        "    (curr.rental_year = prev_quarter.rental_year AND\n",
        "        ((curr.rental_quarter = 'Q2' AND prev_quarter.rental_quarter = 'Q1') OR\n",
        "         (curr.rental_quarter = 'Q3' AND prev_quarter.rental_quarter = 'Q2') OR\n",
        "         (curr.rental_quarter = 'Q4' AND prev_quarter.rental_quarter = 'Q3')))\n",
        "    OR\n",
        "    (curr.rental_quarter = 'Q1' AND prev_quarter.rental_quarter = 'Q4' AND curr.rental_year = prev_quarter.rental_year + 1)\n",
        ")\n",
        "\n",
        "ORDER BY curr.rental_year, curr.rental_quarter;\n",
        "\"\"\"\n",
        "\n",
        "# Execute the query and load the results into a DataFrame\n",
        "df_annual_rev = pd.read_sql_query(query, conn)\n",
        "\n",
        "# Print the report\n",
        "print(\"Annual Revenue Report:\")\n",
        "print(df_annual_rev)"
      ],
      "metadata": {
        "colab": {
          "base_uri": "https://localhost:8080/"
        },
        "id": "I-MiaQDLT0lg",
        "outputId": "dc083ecd-8f56-48f6-dd24-316e6994011b",
        "collapsed": true
      },
      "execution_count": null,
      "outputs": [
        {
          "output_type": "stream",
          "name": "stdout",
          "text": [
            "Annual Revenue Report:\n",
            "   rental_period  total_revenue  prev_year_revenue  yoy_growth_percentage  \\\n",
            "0        2020-Q3      460090.31                NaN                    NaN   \n",
            "1        2020-Q4      358941.88                NaN                    NaN   \n",
            "2        2021-Q1      409059.36                NaN                    NaN   \n",
            "3        2021-Q2      515738.19                NaN                    NaN   \n",
            "4        2021-Q3      916218.27          460090.31                  99.14   \n",
            "5        2021-Q4      874422.08          358941.88                 143.61   \n",
            "6        2022-Q1      833120.83          409059.36                 103.67   \n",
            "7        2022-Q2      946740.69          515738.19                  83.57   \n",
            "8        2022-Q3     1485589.69          916218.27                  62.14   \n",
            "9        2022-Q4     1285245.18          874422.08                  46.98   \n",
            "10       2023-Q1     1331929.81          833120.83                  59.87   \n",
            "11       2023-Q2     1432318.63          946740.69                  51.29   \n",
            "12       2023-Q3     2030169.22         1485589.69                  36.66   \n",
            "13       2023-Q4     1717946.41         1285245.18                  33.67   \n",
            "14       2024-Q1     1728545.60         1331929.81                  29.78   \n",
            "15       2024-Q2     1965899.15         1432318.63                  37.25   \n",
            "16       2024-Q3     2716207.06         2030169.22                  33.79   \n",
            "17       2024-Q4     2294896.85         1717946.41                  33.58   \n",
            "18       2025-Q1     1925098.69         1728545.60                  11.37   \n",
            "\n",
            "    prev_quarter_revenue  qoq_growth_percentage  \n",
            "0                    NaN                    NaN  \n",
            "1              460090.31                 -21.98  \n",
            "2              358941.88                  13.96  \n",
            "3              409059.36                  26.08  \n",
            "4              515738.19                  77.65  \n",
            "5              916218.27                  -4.56  \n",
            "6              874422.08                  -4.72  \n",
            "7              833120.83                  13.64  \n",
            "8              946740.69                  56.92  \n",
            "9             1485589.69                 -13.49  \n",
            "10            1285245.18                   3.63  \n",
            "11            1331929.81                   7.54  \n",
            "12            1432318.63                  41.74  \n",
            "13            2030169.22                 -15.38  \n",
            "14            1717946.41                   0.62  \n",
            "15            1728545.60                  13.73  \n",
            "16            1965899.15                  38.17  \n",
            "17            2716207.06                 -15.51  \n",
            "18            2294896.85                 -16.11  \n"
          ]
        }
      ]
    },
    {
      "cell_type": "markdown",
      "source": [
        "## Vehicle Utilisation Report"
      ],
      "metadata": {
        "id": "K4L5C_cC4Jii"
      }
    },
    {
      "cell_type": "code",
      "source": [
        "# Define the query\n",
        "query = \"\"\"\n",
        "SELECT\n",
        "    b.branch_id,\n",
        "    b.branch_name,\n",
        "    AVG(\n",
        "      CASE\n",
        "         WHEN (366 - COALESCE(m.total_maint, 0) - COALESCE(a.total_acc, 0)) > 0\n",
        "         THEN COALESCE(r.total_rented, 0) * 100.0 / (366 - COALESCE(m.total_maint, 0) - COALESCE(a.total_acc, 0))\n",
        "         ELSE 0\n",
        "      END\n",
        "    ) AS vehicle_utilization\n",
        "FROM vehicles v\n",
        "JOIN branches b ON v.branch_id = b.branch_id\n",
        "LEFT JOIN (\n",
        "  SELECT\n",
        "    vehicle_id,\n",
        "    SUM(\n",
        "      CASE\n",
        "         WHEN (substr(rental_end_date, 7, 4) || '-' || substr(rental_end_date, 4, 2) || '-' || substr(rental_end_date, 1, 2)) > '2024-12-31'\n",
        "         THEN julianday('2024-12-31') - julianday(substr(rental_start_date, 7, 4) || '-' || substr(rental_start_date, 4, 2) || '-' || substr(rental_start_date, 1, 2)) + 1\n",
        "         ELSE rental_duration\n",
        "      END\n",
        "    ) AS total_rented\n",
        "  FROM rentals\n",
        "  WHERE (substr(rental_start_date, 7, 4) || '-' || substr(rental_start_date, 4, 2) || '-' || substr(rental_start_date, 1, 2))\n",
        "         BETWEEN '2024-01-01' AND '2024-12-31'\n",
        "  GROUP BY vehicle_id\n",
        ") r ON v.vehicle_id = r.vehicle_id\n",
        "LEFT JOIN (\n",
        "  SELECT vehicle_id, SUM(service_duration) AS total_maint\n",
        "  FROM maintenance\n",
        "  WHERE (substr(service_date, 7, 4) || '-' || substr(service_date, 4, 2) || '-' || substr(service_date, 1, 2))\n",
        "         BETWEEN '2024-01-01' AND '2024-12-31'\n",
        "  GROUP BY vehicle_id\n",
        ") m ON v.vehicle_id = m.vehicle_id\n",
        "LEFT JOIN (\n",
        "  SELECT vehicle_id, SUM(repair_duration) AS total_acc\n",
        "  FROM accidents\n",
        "  WHERE (substr(accident_date, 7, 4) || '-' || substr(accident_date, 4, 2) || '-' || substr(accident_date, 1, 2))\n",
        "         BETWEEN '2024-01-01' AND '2024-12-31'\n",
        "  GROUP BY vehicle_id\n",
        ") a ON v.vehicle_id = a.vehicle_id\n",
        "GROUP BY b.branch_id, b.branch_name\n",
        "ORDER BY b.branch_id;\n",
        "\"\"\"\n",
        "\n",
        "# Execute the query and load the results into a DataFrame\n",
        "df_utilization = pd.read_sql_query(query, conn)\n",
        "\n",
        "# Print the report\n",
        "print(\"Vehicle Utilization Report for 2024):\")\n",
        "print(df_utilization)"
      ],
      "metadata": {
        "colab": {
          "base_uri": "https://localhost:8080/"
        },
        "id": "K3WpmH_xB8bp",
        "outputId": "0ca1a06a-87e3-488d-b1cb-53bda6802c24",
        "collapsed": true
      },
      "execution_count": null,
      "outputs": [
        {
          "output_type": "stream",
          "name": "stdout",
          "text": [
            "Vehicle Utilization Report for 2024):\n",
            "  branch_id              branch_name  vehicle_utilization\n",
            "0    FR0001  FunRides London Central            83.641111\n",
            "1    FR0002     FunRides London West            92.241893\n",
            "2    FR0003     FunRides London East            92.344693\n",
            "3    FR0004      FunRides Manchester            78.362525\n",
            "4    FR0005      FunRides Birmingham            72.448054\n",
            "5    FR0006         FunRides Glasgow            42.697652\n",
            "6    FR0007       FunRides Edinburgh            14.037458\n",
            "7    FR0008         FunRides Bristol             1.402613\n",
            "8    FR0009       FunRides Liverpool             0.000000\n",
            "9    FR0010       FunRides Newcastle             0.000000\n"
          ]
        }
      ]
    },
    {
      "cell_type": "markdown",
      "source": [
        "## Demand Analysis"
      ],
      "metadata": {
        "id": "dMOEXtPFuI8D"
      }
    },
    {
      "cell_type": "markdown",
      "source": [
        "### 1. Customer Demographics"
      ],
      "metadata": {
        "id": "m5RkoSLgyK32"
      }
    },
    {
      "cell_type": "code",
      "source": [
        "# Define the query\n",
        "query = \"\"\"\n",
        "SELECT\n",
        "    CASE\n",
        "        WHEN (2024 - CAST(substr(birthdate, 7, 4) AS INTEGER)) BETWEEN 18 AND 24 THEN '18-24'\n",
        "        WHEN (2024 - CAST(substr(birthdate, 7, 4) AS INTEGER)) BETWEEN 25 AND 34 THEN '25-34'\n",
        "        WHEN (2024 - CAST(substr(birthdate, 7, 4) AS INTEGER)) BETWEEN 35 AND 44 THEN '35-44'\n",
        "        WHEN (2024 - CAST(substr(birthdate, 7, 4) AS INTEGER)) BETWEEN 45 AND 54 THEN '45-54'\n",
        "        ELSE '55+'\n",
        "    END AS age_group,\n",
        "    COUNT(*) AS total_customers\n",
        "FROM customers\n",
        "GROUP BY age_group\n",
        "ORDER BY age_group;\n",
        "\"\"\"\n",
        "\n",
        "# Execute the query and load the results into a DataFrame\n",
        "df_age_group = pd.read_sql_query(query, conn)\n",
        "\n",
        "#Print the report\n",
        "print(\"Rental counts by age group for each vehicle:\")\n",
        "print(df_age_group)"
      ],
      "metadata": {
        "colab": {
          "base_uri": "https://localhost:8080/"
        },
        "id": "BamDGOxVyKTa",
        "outputId": "9959967b-852d-4928-9604-5fda8ec20402",
        "collapsed": true
      },
      "execution_count": null,
      "outputs": [
        {
          "output_type": "stream",
          "name": "stdout",
          "text": [
            "Rental counts by age group for each vehicle:\n",
            "  age_group  total_customers\n",
            "0     18-24             3008\n",
            "1     25-34             5228\n",
            "2     35-44             4831\n",
            "3     45-54             4802\n",
            "4       55+             4629\n"
          ]
        }
      ]
    },
    {
      "cell_type": "markdown",
      "source": [
        "### 2. Vehicle Demand by Gender"
      ],
      "metadata": {
        "id": "oC5r9LuxIbwy"
      }
    },
    {
      "cell_type": "code",
      "source": [
        "# Define the query\n",
        "query = \"\"\"\n",
        "WITH rental_count AS (\n",
        "    SELECT\n",
        "        r.vehicle_id,\n",
        "        c.sex,\n",
        "        COUNT(r.rental_id) AS total_rentals\n",
        "    FROM rentals r\n",
        "    JOIN customers c ON r.customer_id = c.customer_id\n",
        "    GROUP BY r.vehicle_id, c.sex\n",
        ")\n",
        "SELECT\n",
        "    v.make,\n",
        "    v.model,\n",
        "    rc.sex,\n",
        "    rc.total_rentals\n",
        "FROM rental_count rc\n",
        "JOIN vehicles v ON rc.vehicle_id = v.vehicle_id\n",
        "GROUP BY v.make, v.model, rc.sex\n",
        "ORDER BY v.make, v.model, rc.sex;\n",
        "\"\"\"\n",
        "\n",
        "# Execute the query and load the results into a DataFrame\n",
        "df_rental_by_sex = pd.read_sql_query(query, conn)\n",
        "\n",
        "# Print the report\n",
        "print(\"Rental Counts by Vehicle and Customer Sex:\")\n",
        "print(df_rental_by_sex)"
      ],
      "metadata": {
        "id": "MzWtgTsz1PBg",
        "colab": {
          "base_uri": "https://localhost:8080/"
        },
        "outputId": "6bf99007-7417-4395-cd5d-49e58e975572",
        "collapsed": true
      },
      "execution_count": null,
      "outputs": [
        {
          "output_type": "stream",
          "name": "stdout",
          "text": [
            "Rental Counts by Vehicle and Customer Sex:\n",
            "          make     model sex  total_rentals\n",
            "0         Audi        A3   F             17\n",
            "1         Audi        A3   M             23\n",
            "2         Audi        A4   F            213\n",
            "3         Audi        A4   M            230\n",
            "4         Audi        Q5   F            108\n",
            "5         Audi        Q5   M            130\n",
            "6          BMW  3 Series   F             16\n",
            "7          BMW  3 Series   M             18\n",
            "8          BMW  5 Series   F             46\n",
            "9          BMW  5 Series   M             39\n",
            "10         BMW        X3   F            185\n",
            "11         BMW        X3   M            166\n",
            "12        Ford    Fiesta   F            177\n",
            "13        Ford    Fiesta   M            180\n",
            "14        Ford     Focus   F             46\n",
            "15        Ford     Focus   M             44\n",
            "16        Ford   Mustang   F            219\n",
            "17        Ford   Mustang   M            261\n",
            "18       Honda    Accord   F              1\n",
            "19       Honda    Accord   M              2\n",
            "20       Honda     Civic   F             48\n",
            "21       Honda     Civic   M             39\n",
            "22       Honda      Jazz   F             77\n",
            "23       Honda      Jazz   M             71\n",
            "24    Mercedes   C Class   F            153\n",
            "25    Mercedes   C Class   M            167\n",
            "26    Mercedes   E Class   F            250\n",
            "27    Mercedes   E Class   M            226\n",
            "28    Mercedes   S Class   F             23\n",
            "29    Mercedes   S Class   M             19\n",
            "30      Nissan      Leaf   F            111\n",
            "31      Nissan      Leaf   M             88\n",
            "32      Nissan     Micra   F            270\n",
            "33      Nissan     Micra   M            238\n",
            "34      Nissan   Qashqai   F              2\n",
            "35      Nissan   Qashqai   M              1\n",
            "36      Toyota     Camry   F            155\n",
            "37      Toyota     Camry   M            169\n",
            "38      Toyota   Corolla   F            217\n",
            "39      Toyota   Corolla   M            210\n",
            "40      Toyota     Yaris   F            205\n",
            "41      Toyota     Yaris   M            187\n",
            "42    Vauxhall     Astra   F            104\n",
            "43    Vauxhall     Astra   M             78\n",
            "44    Vauxhall     Corsa   F             43\n",
            "45    Vauxhall     Corsa   M             41\n",
            "46    Vauxhall  Insignia   F             50\n",
            "47    Vauxhall  Insignia   M             43\n",
            "48  Volkswagen      Golf   F             42\n",
            "49  Volkswagen      Golf   M             37\n",
            "50  Volkswagen    Passat   F             18\n",
            "51  Volkswagen    Passat   M             18\n",
            "52  Volkswagen      Polo   F            125\n",
            "53  Volkswagen      Polo   M            126\n"
          ]
        }
      ]
    },
    {
      "cell_type": "markdown",
      "source": [
        "### 3. Average Rental Frequency"
      ],
      "metadata": {
        "id": "5UvL8kc9IUjx"
      }
    },
    {
      "cell_type": "code",
      "source": [
        "# Define the query\n",
        "query = \"\"\"\n",
        "WITH rental_count AS (\n",
        "    SELECT\n",
        "        vehicle_id,\n",
        "        COUNT(*) AS rental_times\n",
        "    FROM rentals\n",
        "    WHERE rental_start_date >= '2024-01-01' AND rental_start_date <= '2024-12-31'\n",
        "    GROUP BY vehicle_id\n",
        ")\n",
        "SELECT\n",
        "    v.make,\n",
        "    v.model,\n",
        "\tSUM(r.rental_times) AS total_rentals,\n",
        "    COUNT(r.vehicle_id) AS total_vehicles,\n",
        "    AVG(r.rental_times) AS avg_rental_frequency\n",
        "FROM rental_count r\n",
        "JOIN vehicles v ON r.vehicle_id = v.vehicle_id\n",
        "GROUP BY v.make, v.model\n",
        "ORDER BY avg_rental_frequency DESC;\n",
        "\"\"\"\n",
        "\n",
        "# Execute the query and load the results into a DataFrame\n",
        "df_avg_rental = pd.read_sql_query(query, conn)\n",
        "\n",
        "# Print the report\n",
        "print(\"Average Rental Frequency Report:\")\n",
        "print(df_avg_rental)"
      ],
      "metadata": {
        "colab": {
          "base_uri": "https://localhost:8080/"
        },
        "id": "FJg3Emz-KcYz",
        "outputId": "a6c8d9ef-359d-49d2-ddac-ba96e27afbcd",
        "collapsed": true
      },
      "execution_count": null,
      "outputs": [
        {
          "output_type": "stream",
          "name": "stdout",
          "text": [
            "Average Rental Frequency Report:\n",
            "Empty DataFrame\n",
            "Columns: [make, model, total_rentals, total_vehicles, avg_rental_frequency]\n",
            "Index: []\n"
          ]
        }
      ]
    },
    {
      "cell_type": "code",
      "source": [
        "# Close the connection\n",
        "conn.close()"
      ],
      "metadata": {
        "id": "qhvj_pFOIPWL"
      },
      "execution_count": null,
      "outputs": []
    }
  ]
}